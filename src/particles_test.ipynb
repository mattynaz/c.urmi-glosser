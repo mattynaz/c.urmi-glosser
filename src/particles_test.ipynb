{
 "cells": [
  {
   "cell_type": "code",
   "execution_count": 25,
   "metadata": {},
   "outputs": [
    {
     "data": {
      "text/plain": [
       "'mən- b- dolma prop u- l-a-yba- laxma'"
      ]
     },
     "execution_count": 25,
     "metadata": {},
     "output_type": "execute_result"
    }
   ],
   "source": [
    "import re\n",
    "\n",
    "particles = [\n",
    "    'u-',\n",
    "    'mən-',\n",
    "    'b-',\n",
    "    'l-a-yba-',\n",
    "    'l-',\n",
    "]\n",
    "\n",
    "s = 'mən-b-dolma prop u-l-a-yba-laxma'\n",
    "\n",
    "pattern = '(' + '|'.join(sorted(particles, key=lambda x: x.count('-'), reverse=True)) + ')'\n",
    "re.sub(pattern, r'\\1 ', s)"
   ]
  }
 ],
 "metadata": {
  "kernelspec": {
   "display_name": "Python 3.10.6 64-bit",
   "language": "python",
   "name": "python3"
  },
  "language_info": {
   "codemirror_mode": {
    "name": "ipython",
    "version": 3
   },
   "file_extension": ".py",
   "mimetype": "text/x-python",
   "name": "python",
   "nbconvert_exporter": "python",
   "pygments_lexer": "ipython3",
   "version": "3.10.6"
  },
  "orig_nbformat": 4,
  "vscode": {
   "interpreter": {
    "hash": "a0a5145e6c304e2a9afaf5b930a2955b950bd4b81fe94f7c42930f43f42762eb"
   }
  }
 },
 "nbformat": 4,
 "nbformat_minor": 2
}
